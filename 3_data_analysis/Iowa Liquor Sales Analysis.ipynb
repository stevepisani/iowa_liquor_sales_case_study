{
 "cells": [
  {
   "cell_type": "markdown",
   "id": "a6b064ec",
   "metadata": {},
   "source": [
    "# Iowa Liquor Sales Analysis\n",
    "Prepared by Steve Pisani\n",
    "\n",
    "Below is the analysis on the provided case study data. In addition to this notebook, this repo showcases a data ingestion script (_found in `./1_data_ingestion`_) and a dbt project for data cleanup and prep (_found in `./2_data_transformation`_). \n"
   ]
  },
  {
   "cell_type": "markdown",
   "id": "0c12f818",
   "metadata": {},
   "source": [
    "## Set Vars\n",
    "In a production, environment this is a big no no."
   ]
  },
  {
   "cell_type": "code",
   "execution_count": 1,
   "id": "744c48cf",
   "metadata": {},
   "outputs": [],
   "source": [
    "SNOWFLAKE_ACCOUNT = 'ACCOUNT'\n",
    "SNOWFLAKE_USER = 'USER'\n",
    "SNOWFLAKE_PASSWORD = 'PASSWORD'\n",
    "SNOWFLAKE_WAREHOUSE = 'compute_wh'\n",
    "SNOWFLAKE_DATABASE = 'analytics'\n",
    "SNOWFLAKE_SCHEMA = 'IOWA_LIQUOR_SALES'"
   ]
  },
  {
   "cell_type": "markdown",
   "id": "1e78aaa1",
   "metadata": {},
   "source": [
    "## Load data"
   ]
  },
  {
   "cell_type": "code",
   "execution_count": 9,
   "id": "cbd6f5cd",
   "metadata": {},
   "outputs": [
    {
     "data": {
      "text/html": [
       "<div>\n",
       "<style scoped>\n",
       "    .dataframe tbody tr th:only-of-type {\n",
       "        vertical-align: middle;\n",
       "    }\n",
       "\n",
       "    .dataframe tbody tr th {\n",
       "        vertical-align: top;\n",
       "    }\n",
       "\n",
       "    .dataframe thead th {\n",
       "        text-align: right;\n",
       "    }\n",
       "</style>\n",
       "<table border=\"1\" class=\"dataframe\">\n",
       "  <thead>\n",
       "    <tr style=\"text-align: right;\">\n",
       "      <th></th>\n",
       "      <th>INVOICE_ID</th>\n",
       "      <th>INVOICE_DATE</th>\n",
       "      <th>STATE_BOTTLE_COST</th>\n",
       "      <th>STATE_BOTTLE_RETAIL</th>\n",
       "      <th>NUMBER_OF_BOTTLES_SOLD</th>\n",
       "      <th>SALE_IN_DOLLARS</th>\n",
       "      <th>COST_IN_DOLLARS</th>\n",
       "      <th>PROFIT_IN_DOLLARS</th>\n",
       "      <th>VOLUME_SOLD_LITERS</th>\n",
       "      <th>VOLUME_SOLD_GALLONS</th>\n",
       "      <th>...</th>\n",
       "      <th>STORE_BRAND_NAME</th>\n",
       "      <th>CATEGORY_ID</th>\n",
       "      <th>CATEGORY_NAME</th>\n",
       "      <th>LIQUOR_TYPE_NAME</th>\n",
       "      <th>VENDOR_ID</th>\n",
       "      <th>VENDOR_NAME</th>\n",
       "      <th>ITEM_ID</th>\n",
       "      <th>ITEM_DESCRIPTION</th>\n",
       "      <th>NUMBER_OF_BOTTLES_IN_PACK</th>\n",
       "      <th>BOTTLE_VOLUME_ML</th>\n",
       "    </tr>\n",
       "  </thead>\n",
       "  <tbody>\n",
       "    <tr>\n",
       "      <th>0</th>\n",
       "      <td>31873800014</td>\n",
       "      <td>2020-11-12</td>\n",
       "      <td>7.47</td>\n",
       "      <td>11.21</td>\n",
       "      <td>1</td>\n",
       "      <td>11.21</td>\n",
       "      <td>7.47</td>\n",
       "      <td>3.74</td>\n",
       "      <td>0.05</td>\n",
       "      <td>0.01</td>\n",
       "      <td>...</td>\n",
       "      <td>quik trip</td>\n",
       "      <td>1031100.0</td>\n",
       "      <td>american vodkas</td>\n",
       "      <td>vodkas</td>\n",
       "      <td>260.0</td>\n",
       "      <td>diageo americas</td>\n",
       "      <td>37991</td>\n",
       "      <td>smirnoff 80prf mini</td>\n",
       "      <td>12</td>\n",
       "      <td>50</td>\n",
       "    </tr>\n",
       "    <tr>\n",
       "      <th>1</th>\n",
       "      <td>31873800015</td>\n",
       "      <td>2020-11-12</td>\n",
       "      <td>4.75</td>\n",
       "      <td>7.13</td>\n",
       "      <td>5</td>\n",
       "      <td>35.65</td>\n",
       "      <td>23.75</td>\n",
       "      <td>11.90</td>\n",
       "      <td>1.87</td>\n",
       "      <td>0.49</td>\n",
       "      <td>...</td>\n",
       "      <td>quik trip</td>\n",
       "      <td>1031100.0</td>\n",
       "      <td>american vodkas</td>\n",
       "      <td>vodkas</td>\n",
       "      <td>260.0</td>\n",
       "      <td>diageo americas</td>\n",
       "      <td>37994</td>\n",
       "      <td>smirnoff 80prf</td>\n",
       "      <td>24</td>\n",
       "      <td>375</td>\n",
       "    </tr>\n",
       "    <tr>\n",
       "      <th>2</th>\n",
       "      <td>31873800016</td>\n",
       "      <td>2020-11-12</td>\n",
       "      <td>11.50</td>\n",
       "      <td>17.25</td>\n",
       "      <td>1</td>\n",
       "      <td>17.25</td>\n",
       "      <td>11.50</td>\n",
       "      <td>5.75</td>\n",
       "      <td>0.05</td>\n",
       "      <td>0.01</td>\n",
       "      <td>...</td>\n",
       "      <td>quik trip</td>\n",
       "      <td>1022100.0</td>\n",
       "      <td>mixto tequila</td>\n",
       "      <td>tequilas &amp; mezcal</td>\n",
       "      <td>395.0</td>\n",
       "      <td>proximo</td>\n",
       "      <td>89191</td>\n",
       "      <td>jose cuervo especial reposado mini</td>\n",
       "      <td>12</td>\n",
       "      <td>50</td>\n",
       "    </tr>\n",
       "    <tr>\n",
       "      <th>3</th>\n",
       "      <td>31873800017</td>\n",
       "      <td>2020-11-12</td>\n",
       "      <td>3.00</td>\n",
       "      <td>4.50</td>\n",
       "      <td>2</td>\n",
       "      <td>9.00</td>\n",
       "      <td>6.00</td>\n",
       "      <td>3.00</td>\n",
       "      <td>0.40</td>\n",
       "      <td>0.10</td>\n",
       "      <td>...</td>\n",
       "      <td>quik trip</td>\n",
       "      <td>1022100.0</td>\n",
       "      <td>mixto tequila</td>\n",
       "      <td>tequilas &amp; mezcal</td>\n",
       "      <td>395.0</td>\n",
       "      <td>proximo</td>\n",
       "      <td>89193</td>\n",
       "      <td>jose cuervo especial reposado</td>\n",
       "      <td>48</td>\n",
       "      <td>200</td>\n",
       "    </tr>\n",
       "    <tr>\n",
       "      <th>4</th>\n",
       "      <td>31873800018</td>\n",
       "      <td>2020-11-12</td>\n",
       "      <td>5.50</td>\n",
       "      <td>8.25</td>\n",
       "      <td>6</td>\n",
       "      <td>49.50</td>\n",
       "      <td>33.00</td>\n",
       "      <td>16.50</td>\n",
       "      <td>2.25</td>\n",
       "      <td>0.59</td>\n",
       "      <td>...</td>\n",
       "      <td>quik trip</td>\n",
       "      <td>1022100.0</td>\n",
       "      <td>mixto tequila</td>\n",
       "      <td>tequilas &amp; mezcal</td>\n",
       "      <td>395.0</td>\n",
       "      <td>proximo</td>\n",
       "      <td>89194</td>\n",
       "      <td>jose cuervo especial reposado flask</td>\n",
       "      <td>24</td>\n",
       "      <td>375</td>\n",
       "    </tr>\n",
       "  </tbody>\n",
       "</table>\n",
       "<p>5 rows × 22 columns</p>\n",
       "</div>"
      ],
      "text/plain": [
       "    INVOICE_ID INVOICE_DATE  STATE_BOTTLE_COST  STATE_BOTTLE_RETAIL  \\\n",
       "0  31873800014   2020-11-12               7.47                11.21   \n",
       "1  31873800015   2020-11-12               4.75                 7.13   \n",
       "2  31873800016   2020-11-12              11.50                17.25   \n",
       "3  31873800017   2020-11-12               3.00                 4.50   \n",
       "4  31873800018   2020-11-12               5.50                 8.25   \n",
       "\n",
       "   NUMBER_OF_BOTTLES_SOLD  SALE_IN_DOLLARS  COST_IN_DOLLARS  \\\n",
       "0                       1            11.21             7.47   \n",
       "1                       5            35.65            23.75   \n",
       "2                       1            17.25            11.50   \n",
       "3                       2             9.00             6.00   \n",
       "4                       6            49.50            33.00   \n",
       "\n",
       "   PROFIT_IN_DOLLARS  VOLUME_SOLD_LITERS  VOLUME_SOLD_GALLONS  ...  \\\n",
       "0               3.74                0.05                 0.01  ...   \n",
       "1              11.90                1.87                 0.49  ...   \n",
       "2               5.75                0.05                 0.01  ...   \n",
       "3               3.00                0.40                 0.10  ...   \n",
       "4              16.50                2.25                 0.59  ...   \n",
       "\n",
       "  STORE_BRAND_NAME CATEGORY_ID    CATEGORY_NAME   LIQUOR_TYPE_NAME VENDOR_ID  \\\n",
       "0        quik trip   1031100.0  american vodkas             vodkas     260.0   \n",
       "1        quik trip   1031100.0  american vodkas             vodkas     260.0   \n",
       "2        quik trip   1022100.0    mixto tequila  tequilas & mezcal     395.0   \n",
       "3        quik trip   1022100.0    mixto tequila  tequilas & mezcal     395.0   \n",
       "4        quik trip   1022100.0    mixto tequila  tequilas & mezcal     395.0   \n",
       "\n",
       "       VENDOR_NAME  ITEM_ID                     ITEM_DESCRIPTION  \\\n",
       "0  diageo americas    37991                  smirnoff 80prf mini   \n",
       "1  diageo americas    37994                       smirnoff 80prf   \n",
       "2          proximo    89191   jose cuervo especial reposado mini   \n",
       "3          proximo    89193        jose cuervo especial reposado   \n",
       "4          proximo    89194  jose cuervo especial reposado flask   \n",
       "\n",
       "   NUMBER_OF_BOTTLES_IN_PACK BOTTLE_VOLUME_ML  \n",
       "0                         12               50  \n",
       "1                         24              375  \n",
       "2                         12               50  \n",
       "3                         48              200  \n",
       "4                         24              375  \n",
       "\n",
       "[5 rows x 22 columns]"
      ]
     },
     "execution_count": 9,
     "metadata": {},
     "output_type": "execute_result"
    }
   ],
   "source": [
    "import snowflake.connector\n",
    "import pandas as pd\n",
    "\n",
    "conn = snowflake.connector.connect(\n",
    "            user=SNOWFLAKE_USER,\n",
    "            password=SNOWFLAKE_PASSWORD,\n",
    "            account=SNOWFLAKE_ACCOUNT,\n",
    "            warehouse=SNOWFLAKE_WAREHOUSE,\n",
    "            database=SNOWFLAKE_DATABASE,\n",
    "            schema=SNOWFLAKE_SCHEMA\n",
    "        )\n",
    "\n",
    "# Load the cleaned data into a Pandas DataFrame\n",
    "invoices_df = pd.read_sql(\n",
    "  sql='SELECT * FROM analytics.marts.invoices',\n",
    "  con=conn,\n",
    ")\n",
    "conn.close()\n",
    "\n",
    "# Print the DataFrame\n",
    "invoices_df.head()\n"
   ]
  },
  {
   "cell_type": "markdown",
   "id": "e4b3da3d",
   "metadata": {},
   "source": [
    "## 1. What impact did Covid have on the overall liquor market in Iowa?"
   ]
  },
  {
   "cell_type": "code",
   "execution_count": 10,
   "id": "c44e56c3",
   "metadata": {},
   "outputs": [
    {
     "data": {
      "text/html": [
       "<div>\n",
       "<style scoped>\n",
       "    .dataframe tbody tr th:only-of-type {\n",
       "        vertical-align: middle;\n",
       "    }\n",
       "\n",
       "    .dataframe tbody tr th {\n",
       "        vertical-align: top;\n",
       "    }\n",
       "\n",
       "    .dataframe thead th {\n",
       "        text-align: right;\n",
       "    }\n",
       "</style>\n",
       "<table border=\"1\" class=\"dataframe\">\n",
       "  <thead>\n",
       "    <tr style=\"text-align: right;\">\n",
       "      <th></th>\n",
       "      <th>SALE_IN_DOLLARS</th>\n",
       "      <th>VOLUME_SOLD_LITERS</th>\n",
       "    </tr>\n",
       "    <tr>\n",
       "      <th>YEAR</th>\n",
       "      <th></th>\n",
       "      <th></th>\n",
       "    </tr>\n",
       "  </thead>\n",
       "  <tbody>\n",
       "    <tr>\n",
       "      <th>2019</th>\n",
       "      <td>3.492193e+08</td>\n",
       "      <td>22301328.92</td>\n",
       "    </tr>\n",
       "    <tr>\n",
       "      <th>2020</th>\n",
       "      <td>3.966620e+08</td>\n",
       "      <td>24211592.80</td>\n",
       "    </tr>\n",
       "    <tr>\n",
       "      <th>2021</th>\n",
       "      <td>4.281216e+08</td>\n",
       "      <td>24755258.31</td>\n",
       "    </tr>\n",
       "  </tbody>\n",
       "</table>\n",
       "</div>"
      ],
      "text/plain": [
       "      SALE_IN_DOLLARS  VOLUME_SOLD_LITERS\n",
       "YEAR                                     \n",
       "2019     3.492193e+08         22301328.92\n",
       "2020     3.966620e+08         24211592.80\n",
       "2021     4.281216e+08         24755258.31"
      ]
     },
     "execution_count": 10,
     "metadata": {},
     "output_type": "execute_result"
    }
   ],
   "source": [
    "# Convert the 'INVOICE_DATE' column to datetime format\n",
    "invoices_df['INVOICE_DATE'] = pd.to_datetime(invoices_df['INVOICE_DATE'])\n",
    "\n",
    "# Extract year from 'INVOICE_DATE'\n",
    "invoices_df['YEAR'] = invoices_df['INVOICE_DATE'].dt.year\n",
    "\n",
    "# Group data by year and sum up the sales and volume\n",
    "annual_sales_volume = invoices_df.groupby('YEAR')[['SALE_IN_DOLLARS', 'VOLUME_SOLD_LITERS']].sum()\n",
    "\n",
    "# Filter out data only for 2019, 2020, and 2021\n",
    "annual_sales_volume = annual_sales_volume.loc[[2019, 2020, 2021]]\n",
    "\n",
    "annual_sales_volume\n"
   ]
  },
  {
   "cell_type": "markdown",
   "id": "1522e549",
   "metadata": {},
   "source": [
    "The overall liquor market in Iowa saw the following changes during the COVID-19 period:\n",
    "\n",
    "1. 2019 (Pre-COVID):\n",
    "\n",
    "  Sales: $349,219,300\n",
    "  Volume Sold: 22,301,328 liters\n",
    "  \n",
    "2. 2020 (COVID onset):\n",
    "\n",
    "  Sales: $396,662,000 (an increase of about 12.7% from 2019)\n",
    "  Volume Sold: 24,211,592 liters (an increase of about 8.2% from 2019)\n",
    "  \n",
    "3. 2021 (Post-COVID)\n",
    "\n",
    "  Sales: $428,121,600 (an increase of about 7.6% from 2020)\n",
    "  Volume Sold: 24,755,258 liters (an increase of about 2.2% from 2020)\n",
    "  \n",
    "\n",
    "From these numbers, we can infer:\n",
    "\n",
    "The liquor market in Iowa saw growth both in terms of sales and volume during the COVID-19 period.\n",
    "The year 2020, which marks the onset of COVID, saw an increase in sales and volume compared to 2019.\n",
    "This growth trend continued into 2021, with even higher sales and volume compared to 2020.\n"
   ]
  },
  {
   "cell_type": "markdown",
   "id": "09cbd204",
   "metadata": {},
   "source": [
    "### 1a. What trends evolved over the next 3-18 months?"
   ]
  },
  {
   "cell_type": "code",
   "execution_count": 11,
   "id": "b12467a4",
   "metadata": {},
   "outputs": [
    {
     "data": {
      "image/png": "[encoded data removed]",
      "text/plain": [
       "<Figure size 1080x504 with 1 Axes>"
      ]
     },
     "metadata": {
      "needs_background": "light"
     },
     "output_type": "display_data"
    }
   ],
   "source": [
    "# Extract month and year from 'INVOICE_DATE'\n",
    "invoices_df['MONTH'] = invoices_df['INVOICE_DATE'].dt.month\n",
    "\n",
    "# Group data by year and month, then sum up the sales\n",
    "monthly_sales = invoices_df.groupby(['YEAR', 'MONTH'])['SALE_IN_DOLLARS'].sum().reset_index()\n",
    "\n",
    "# Filter out data for January 2020 to June 2021\n",
    "monthly_sales = monthly_sales[(monthly_sales['YEAR'] == 2020) | \n",
    "                              ((monthly_sales['YEAR'] == 2021) & (monthly_sales['MONTH'] <= 6))]\n",
    "\n",
    "# Plotting the monthly sales for the period\n",
    "import matplotlib.pyplot as plt\n",
    "\n",
    "plt.figure(figsize=(15, 7))\n",
    "plt.plot(monthly_sales['MONTH'], monthly_sales['SALE_IN_DOLLARS'], marker='o', label='Monthly Sales')\n",
    "plt.title('Monthly Sales from January 2020 to June 2021')\n",
    "plt.xlabel('Month')\n",
    "plt.ylabel('Sales in Dollars')\n",
    "plt.xticks(monthly_sales['MONTH'], \n",
    "           ['Jan', 'Feb', 'Mar', 'Apr', 'May', 'Jun', 'Jul', 'Aug', 'Sep', 'Oct', 'Nov', 'Dec', 'Jan', 'Feb', 'Mar', 'Apr', 'May', 'Jun'])\n",
    "plt.legend()\n",
    "plt.grid(True, which='both', linestyle='--', linewidth=0.5)\n",
    "plt.tight_layout()\n",
    "plt.show()\n"
   ]
  },
  {
   "cell_type": "markdown",
   "id": "5aca9cd9",
   "metadata": {},
   "source": [
    "The monthly sales trend from January 2020 to June 2021 indicates:\n",
    "\n",
    "Sales began to rise starting in January 2020 and peaked around March.\n",
    "There was a noticeable dip in April, likely reflecting the immediate impacts of COVID-19 lockdowns and restrictions.\n",
    "Post-April, sales began to recover steadily and maintained an upward trajectory throughout the year.\n",
    "By January 2021, sales had surged again and remained relatively high for the first half of the year, with a few fluctuations.\n"
   ]
  },
  {
   "cell_type": "markdown",
   "id": "f8e17ea9",
   "metadata": {},
   "source": [
    "### 1b. Was there a notable shift in the types of products purchased in terms of pack size"
   ]
  },
  {
   "cell_type": "code",
   "execution_count": 12,
   "id": "a2fa81df",
   "metadata": {},
   "outputs": [
    {
     "data": {
      "image/png": "[encoded data removed]",
      "text/plain": [
       "<Figure size 1080x504 with 1 Axes>"
      ]
     },
     "metadata": {
      "needs_background": "light"
     },
     "output_type": "display_data"
    }
   ],
   "source": [
    "# Group by year and 'NUMBER_OF_BOTTLES_IN_PACK' and count the number of invoices for each pack size\n",
    "pack_size_distribution = invoices_df.groupby(['YEAR', 'NUMBER_OF_BOTTLES_IN_PACK']).size().reset_index(name='COUNT')\n",
    "\n",
    "# Filter for years 2019 and 2020\n",
    "pack_size_distribution = pack_size_distribution[pack_size_distribution['YEAR'].isin([2019, 2020])]\n",
    "\n",
    "# Pivot the data for better visualization\n",
    "pack_size_pivot = pack_size_distribution.pivot(index='NUMBER_OF_BOTTLES_IN_PACK', columns='YEAR', values='COUNT').fillna(0)\n",
    "\n",
    "# Plotting the distribution\n",
    "pack_size_pivot.plot(kind='bar', figsize=(15, 7))\n",
    "plt.title('Distribution of Pack Size in 2019 and 2020')\n",
    "plt.xlabel('Number of Bottles in Pack')\n",
    "plt.ylabel('Count of Invoices')\n",
    "plt.legend(title='Year')\n",
    "plt.grid(axis='y', linestyle='--', linewidth=0.5)\n",
    "plt.tight_layout()\n",
    "plt.show()\n"
   ]
  },
  {
   "cell_type": "markdown",
   "id": "f684e229",
   "metadata": {},
   "source": [
    "The distribution of pack sizes in 2019 (pre-COVID) and 2020 (COVID onset) reveals the following:\n",
    "\n",
    "The most popular pack sizes in both years were 6, 12, and 24 bottles per pack.\n",
    "In 2020, there was a noticeable increase in purchases of packs containing 6 and 12 bottles compared to 2019.\n",
    "On the contrary, packs with 24 bottles saw a slight decrease in 2020 compared to 2019.\n",
    "Other pack sizes also experienced changes, but the most significant shifts were observed in the 6, 12, and 24 bottle packs.\n"
   ]
  },
  {
   "cell_type": "markdown",
   "id": "608e7416",
   "metadata": {},
   "source": [
    "## 2. Which are the fastest growing types of liquor (e.g., vodka, tequila, rum, etc.)? How has market share changed over time?"
   ]
  },
  {
   "cell_type": "code",
   "execution_count": 13,
   "id": "08a9f8b2",
   "metadata": {},
   "outputs": [
    {
     "data": {
      "text/html": [
       "<div>\n",
       "<style scoped>\n",
       "    .dataframe tbody tr th:only-of-type {\n",
       "        vertical-align: middle;\n",
       "    }\n",
       "\n",
       "    .dataframe tbody tr th {\n",
       "        vertical-align: top;\n",
       "    }\n",
       "\n",
       "    .dataframe thead th {\n",
       "        text-align: right;\n",
       "    }\n",
       "</style>\n",
       "<table border=\"1\" class=\"dataframe\">\n",
       "  <thead>\n",
       "    <tr style=\"text-align: right;\">\n",
       "      <th>YEAR</th>\n",
       "      <th>GROWTH_RATE</th>\n",
       "    </tr>\n",
       "    <tr>\n",
       "      <th>LIQUOR_TYPE_NAME</th>\n",
       "      <th></th>\n",
       "    </tr>\n",
       "  </thead>\n",
       "  <tbody>\n",
       "    <tr>\n",
       "      <th>tequilas &amp; mezcal</th>\n",
       "      <td>59.506890</td>\n",
       "    </tr>\n",
       "    <tr>\n",
       "      <th>liqueurs &amp; cordials</th>\n",
       "      <td>31.173845</td>\n",
       "    </tr>\n",
       "    <tr>\n",
       "      <th>specialty &amp; miscellaneous</th>\n",
       "      <td>26.378939</td>\n",
       "    </tr>\n",
       "    <tr>\n",
       "      <th>whiskies</th>\n",
       "      <td>22.636508</td>\n",
       "    </tr>\n",
       "    <tr>\n",
       "      <th>gins</th>\n",
       "      <td>17.250531</td>\n",
       "    </tr>\n",
       "    <tr>\n",
       "      <th>vodkas</th>\n",
       "      <td>11.327505</td>\n",
       "    </tr>\n",
       "    <tr>\n",
       "      <th>rums</th>\n",
       "      <td>11.137665</td>\n",
       "    </tr>\n",
       "  </tbody>\n",
       "</table>\n",
       "</div>"
      ],
      "text/plain": [
       "YEAR                       GROWTH_RATE\n",
       "LIQUOR_TYPE_NAME                      \n",
       "tequilas & mezcal            59.506890\n",
       "liqueurs & cordials          31.173845\n",
       "specialty & miscellaneous    26.378939\n",
       "whiskies                     22.636508\n",
       "gins                         17.250531\n",
       "vodkas                       11.327505\n",
       "rums                         11.137665"
      ]
     },
     "execution_count": 13,
     "metadata": {},
     "output_type": "execute_result"
    }
   ],
   "source": [
    "# Group by year and 'LIQUOR_TYPE_NAME' and sum the sales for each type of liquor\n",
    "liquor_sales_by_type = invoices_df.groupby(['YEAR', 'LIQUOR_TYPE_NAME'])['SALE_IN_DOLLARS'].sum().reset_index()\n",
    "\n",
    "# Pivot the data to get sales for each year as separate columns\n",
    "liquor_sales_pivot = liquor_sales_by_type.pivot(index='LIQUOR_TYPE_NAME', columns='YEAR', values='SALE_IN_DOLLARS').fillna(0)\n",
    "\n",
    "# Calculate the growth rate from 2019 to 2021\n",
    "liquor_sales_pivot['GROWTH_RATE'] = ((liquor_sales_pivot[2021] - liquor_sales_pivot[2019]) / liquor_sales_pivot[2019]) * 100\n",
    "\n",
    "# Sort by growth rate in descending order to identify the fastest growing types\n",
    "fastest_growing_liquors = liquor_sales_pivot[['GROWTH_RATE']].sort_values(by='GROWTH_RATE', ascending=False)\n",
    "\n",
    "fastest_growing_liquors\n"
   ]
  },
  {
   "cell_type": "markdown",
   "id": "8bd5ce8e",
   "metadata": {},
   "source": [
    "It's evident that **Tequilas & Mezcal** experienced the highest growth, followed by Vodkas."
   ]
  },
  {
   "cell_type": "markdown",
   "id": "46af736b",
   "metadata": {},
   "source": [
    "### a. Function to Visualize Market Share Over Time"
   ]
  },
  {
   "cell_type": "code",
   "execution_count": 14,
   "id": "4336d1f9",
   "metadata": {},
   "outputs": [],
   "source": [
    "def visualize_market_share(liquor_types):\n",
    "    \"\"\"\n",
    "    Function to visualize market share over time for the provided list of liquor types.\n",
    "    \n",
    "    Parameters:\n",
    "    - liquor_types (list): List of liquor types to visualize.\n",
    "    \n",
    "    Returns:\n",
    "    - A plot showing market share over time for the specified liquor types.\n",
    "    \"\"\"\n",
    "    \n",
    "    # Filter data for the specified liquor types\n",
    "    filtered_data = liquor_sales_by_type[liquor_sales_by_type['LIQUOR_TYPE_NAME'].isin(liquor_types)]\n",
    "    \n",
    "    # Calculate total sales for each year\n",
    "    total_sales_per_year = liquor_sales_by_type.groupby('YEAR')['SALE_IN_DOLLARS'].sum()\n",
    "    \n",
    "    # Calculate market share\n",
    "    filtered_data['MARKET_SHARE'] = filtered_data.apply(lambda row: (row['SALE_IN_DOLLARS'] / total_sales_per_year[row['YEAR']]) * 100, axis=1)\n",
    "    \n",
    "    # Pivot data for plotting\n",
    "    market_share_pivot = filtered_data.pivot(index='YEAR', columns='LIQUOR_TYPE_NAME', values='MARKET_SHARE')\n",
    "    \n",
    "    # Plot\n",
    "    plt.figure(figsize=(15, 7))\n",
    "    market_share_pivot.plot(ax=plt.gca())\n",
    "    plt.title('Market Share Over Time for Selected Liquor Types')\n",
    "    plt.xlabel('Year')\n",
    "    plt.ylabel('Market Share (%)')\n",
    "    plt.legend(title='Liquor Type')\n",
    "    plt.grid(axis='y', linestyle='--', linewidth=0.5)\n",
    "    plt.tight_layout()\n",
    "    plt.show()\n"
   ]
  },
  {
   "cell_type": "code",
   "execution_count": 15,
   "id": "6df73220",
   "metadata": {},
   "outputs": [
    {
     "name": "stderr",
     "output_type": "stream",
     "text": [
      "/opt/anaconda3/envs/notebooks/lib/python3.9/site-packages/pandas/core/frame.py:3607: SettingWithCopyWarning: \n",
      "A value is trying to be set on a copy of a slice from a DataFrame.\n",
      "Try using .loc[row_indexer,col_indexer] = value instead\n",
      "\n",
      "See the caveats in the documentation: https://pandas.pydata.org/pandas-docs/stable/user_guide/indexing.html#returning-a-view-versus-a-copy\n",
      "  self._set_item(key, value)\n"
     ]
    },
    {
     "data": {
      "image/png": "[encoded data removed]",
      "text/plain": [
       "<Figure size 1080x504 with 1 Axes>"
      ]
     },
     "metadata": {
      "needs_background": "light"
     },
     "output_type": "display_data"
    }
   ],
   "source": [
    "# Test the function with a few liquor types\n",
    "visualize_market_share(['tequilas & mezcal', 'vodkas', 'rums'])\n"
   ]
  },
  {
   "cell_type": "markdown",
   "id": "a3419051",
   "metadata": {},
   "source": [
    "This visual reveals:\n",
    "- **Tequilas & Mezcal**: A clear upward trend in market share, indicating its increasing popularity.\n",
    "- **Vodkas**: A downward trend, suggesting customers are choosing other options.\n",
    "- **Rums**: A relatively stable market share over the three years.\n"
   ]
  },
  {
   "cell_type": "markdown",
   "id": "a234faf9",
   "metadata": {},
   "source": [
    "### b. What is driving the growth in tequila sales? Increases in average price or increases in volume sold?\n"
   ]
  },
  {
   "cell_type": "code",
   "execution_count": 16,
   "id": "a62ff85c",
   "metadata": {},
   "outputs": [
    {
     "data": {
      "text/html": [
       "<div>\n",
       "<style scoped>\n",
       "    .dataframe tbody tr th:only-of-type {\n",
       "        vertical-align: middle;\n",
       "    }\n",
       "\n",
       "    .dataframe tbody tr th {\n",
       "        vertical-align: top;\n",
       "    }\n",
       "\n",
       "    .dataframe thead th {\n",
       "        text-align: right;\n",
       "    }\n",
       "</style>\n",
       "<table border=\"1\" class=\"dataframe\">\n",
       "  <thead>\n",
       "    <tr style=\"text-align: right;\">\n",
       "      <th></th>\n",
       "      <th>YEAR</th>\n",
       "      <th>VOLUME_SOLD_LITERS</th>\n",
       "      <th>AVERAGE_PRICE_PER_LITER</th>\n",
       "    </tr>\n",
       "  </thead>\n",
       "  <tbody>\n",
       "    <tr>\n",
       "      <th>0</th>\n",
       "      <td>2017</td>\n",
       "      <td>33488.53</td>\n",
       "      <td>24.944636</td>\n",
       "    </tr>\n",
       "    <tr>\n",
       "      <th>1</th>\n",
       "      <td>2018</td>\n",
       "      <td>869827.26</td>\n",
       "      <td>23.050524</td>\n",
       "    </tr>\n",
       "    <tr>\n",
       "      <th>2</th>\n",
       "      <td>2019</td>\n",
       "      <td>932718.25</td>\n",
       "      <td>23.535318</td>\n",
       "    </tr>\n",
       "    <tr>\n",
       "      <th>3</th>\n",
       "      <td>2020</td>\n",
       "      <td>1066478.85</td>\n",
       "      <td>25.325843</td>\n",
       "    </tr>\n",
       "    <tr>\n",
       "      <th>4</th>\n",
       "      <td>2021</td>\n",
       "      <td>1267139.36</td>\n",
       "      <td>27.632846</td>\n",
       "    </tr>\n",
       "  </tbody>\n",
       "</table>\n",
       "</div>"
      ],
      "text/plain": [
       "   YEAR  VOLUME_SOLD_LITERS  AVERAGE_PRICE_PER_LITER\n",
       "0  2017            33488.53                24.944636\n",
       "1  2018           869827.26                23.050524\n",
       "2  2019           932718.25                23.535318\n",
       "3  2020          1066478.85                25.325843\n",
       "4  2021          1267139.36                27.632846"
      ]
     },
     "execution_count": 16,
     "metadata": {},
     "output_type": "execute_result"
    }
   ],
   "source": [
    "# Filter data for 'tequilas & mezcal'\n",
    "tequila_data = invoices_df[invoices_df['LIQUOR_TYPE_NAME'] == 'tequilas & mezcal']\n",
    "\n",
    "# Group by year and calculate total volume sold and total sales\n",
    "tequila_metrics = tequila_data.groupby('YEAR').agg({\n",
    "    'VOLUME_SOLD_LITERS': 'sum',\n",
    "    'SALE_IN_DOLLARS': 'sum'\n",
    "}).reset_index()\n",
    "\n",
    "# Calculate average price per liter for each year\n",
    "tequila_metrics['AVERAGE_PRICE_PER_LITER'] = tequila_metrics['SALE_IN_DOLLARS'] / tequila_metrics['VOLUME_SOLD_LITERS']\n",
    "\n",
    "tequila_metrics[['YEAR', 'VOLUME_SOLD_LITERS', 'AVERAGE_PRICE_PER_LITER']]\n"
   ]
  },
  {
   "cell_type": "markdown",
   "id": "a3314518",
   "metadata": {},
   "source": [
    "1. **Volume Sold**:\n",
    "There has been a consistent increase in the volume of Tequilas & Mezcal sold each year.\n",
    "\n",
    "2. **Average Price per Liter**:\n",
    "The average price per liter has also been increasing.\n",
    "From 2019 to 2021, the average price per liter increased from approximately $24.94 to $27.63.\n",
    "\n",
    "\n",
    "From this analysis, it's evident that the growth in Tequila sales is driven by both an increase in volume sold and an increase in the average price. Both factors have contributed to the overall growth in Tequila sales during this period.\n",
    "\n"
   ]
  },
  {
   "cell_type": "code",
   "execution_count": 18,
   "id": "53c5fd09",
   "metadata": {},
   "outputs": [],
   "source": [
    "# Group by year and 'STORE_BRAND_NAME' and sum the sales for each retailer\n",
    "retailer_sales = invoices_df.groupby(['YEAR', 'STORE_BRAND_NAME'])['SALE_IN_DOLLARS'].sum().reset_index()"
   ]
  },
  {
   "cell_type": "code",
   "execution_count": 28,
   "id": "ae9f0457",
   "metadata": {},
   "outputs": [
    {
     "data": {
      "text/html": [
       "<div>\n",
       "<style scoped>\n",
       "    .dataframe tbody tr th:only-of-type {\n",
       "        vertical-align: middle;\n",
       "    }\n",
       "\n",
       "    .dataframe tbody tr th {\n",
       "        vertical-align: top;\n",
       "    }\n",
       "\n",
       "    .dataframe thead th {\n",
       "        text-align: right;\n",
       "    }\n",
       "</style>\n",
       "<table border=\"1\" class=\"dataframe\">\n",
       "  <thead>\n",
       "    <tr style=\"text-align: right;\">\n",
       "      <th>YEAR</th>\n",
       "      <th>2017</th>\n",
       "      <th>2018</th>\n",
       "      <th>2019</th>\n",
       "      <th>2020</th>\n",
       "      <th>2021</th>\n",
       "    </tr>\n",
       "    <tr>\n",
       "      <th>RANK</th>\n",
       "      <th></th>\n",
       "      <th></th>\n",
       "      <th></th>\n",
       "      <th></th>\n",
       "      <th></th>\n",
       "    </tr>\n",
       "  </thead>\n",
       "  <tbody>\n",
       "    <tr>\n",
       "      <th>1.0</th>\n",
       "      <td>Hy-Vee</td>\n",
       "      <td>Hy-Vee</td>\n",
       "      <td>Hy-Vee</td>\n",
       "      <td>Hy-Vee</td>\n",
       "      <td>Hy-Vee</td>\n",
       "    </tr>\n",
       "    <tr>\n",
       "      <th>2.0</th>\n",
       "      <td>Fareway Stores</td>\n",
       "      <td>Fareway Stores</td>\n",
       "      <td>Fareway Stores</td>\n",
       "      <td>Fareway Stores</td>\n",
       "      <td>Fareway Stores</td>\n",
       "    </tr>\n",
       "    <tr>\n",
       "      <th>3.0</th>\n",
       "      <td>Wal-Mart</td>\n",
       "      <td>Wal-Mart</td>\n",
       "      <td>Wal-Mart</td>\n",
       "      <td>Wal-Mart</td>\n",
       "      <td>Sam's Club</td>\n",
       "    </tr>\n",
       "    <tr>\n",
       "      <th>4.0</th>\n",
       "      <td>Sam's Club</td>\n",
       "      <td>Sam's Club</td>\n",
       "      <td>Sam's Club</td>\n",
       "      <td>Sam's Club</td>\n",
       "      <td>Casey's General Store</td>\n",
       "    </tr>\n",
       "    <tr>\n",
       "      <th>5.0</th>\n",
       "      <td>Central City</td>\n",
       "      <td>Central City</td>\n",
       "      <td>Central City</td>\n",
       "      <td>Casey's General Store</td>\n",
       "      <td>Wal-Mart</td>\n",
       "    </tr>\n",
       "    <tr>\n",
       "      <th>6.0</th>\n",
       "      <td>Casey's General Store</td>\n",
       "      <td>Casey's General Store</td>\n",
       "      <td>Casey's General Store</td>\n",
       "      <td>Costco Wholesale</td>\n",
       "      <td>Central City</td>\n",
       "    </tr>\n",
       "    <tr>\n",
       "      <th>7.0</th>\n",
       "      <td>Kum &amp; Go</td>\n",
       "      <td>Kum &amp; Go</td>\n",
       "      <td>Kum &amp; Go</td>\n",
       "      <td>Central City</td>\n",
       "      <td>Costco Wholesale</td>\n",
       "    </tr>\n",
       "    <tr>\n",
       "      <th>8.0</th>\n",
       "      <td>Costco Wholesale</td>\n",
       "      <td>Costco Wholesale</td>\n",
       "      <td>Costco Wholesale</td>\n",
       "      <td>Kum &amp; Go</td>\n",
       "      <td>Kum &amp; Go</td>\n",
       "    </tr>\n",
       "    <tr>\n",
       "      <th>9.0</th>\n",
       "      <td>NaN</td>\n",
       "      <td>Wilkie Liquors</td>\n",
       "      <td>Wilkie Liquors</td>\n",
       "      <td>NaN</td>\n",
       "      <td>Benz Distributing</td>\n",
       "    </tr>\n",
       "    <tr>\n",
       "      <th>10.0</th>\n",
       "      <td>Walgreens</td>\n",
       "      <td>Walgreens</td>\n",
       "      <td>Lot-A-Spirits</td>\n",
       "      <td>Walgreens</td>\n",
       "      <td>Wilkie Liquors</td>\n",
       "    </tr>\n",
       "  </tbody>\n",
       "</table>\n",
       "</div>"
      ],
      "text/plain": [
       "YEAR                   2017                   2018                   2019  \\\n",
       "RANK                                                                        \n",
       "1.0                  Hy-Vee                 Hy-Vee                 Hy-Vee   \n",
       "2.0          Fareway Stores         Fareway Stores         Fareway Stores   \n",
       "3.0                Wal-Mart               Wal-Mart               Wal-Mart   \n",
       "4.0              Sam's Club             Sam's Club             Sam's Club   \n",
       "5.0            Central City           Central City           Central City   \n",
       "6.0   Casey's General Store  Casey's General Store  Casey's General Store   \n",
       "7.0                Kum & Go               Kum & Go               Kum & Go   \n",
       "8.0        Costco Wholesale       Costco Wholesale       Costco Wholesale   \n",
       "9.0                     NaN         Wilkie Liquors         Wilkie Liquors   \n",
       "10.0              Walgreens              Walgreens          Lot-A-Spirits   \n",
       "\n",
       "YEAR                   2020                   2021  \n",
       "RANK                                                \n",
       "1.0                  Hy-Vee                 Hy-Vee  \n",
       "2.0          Fareway Stores         Fareway Stores  \n",
       "3.0                Wal-Mart             Sam's Club  \n",
       "4.0              Sam's Club  Casey's General Store  \n",
       "5.0   Casey's General Store               Wal-Mart  \n",
       "6.0        Costco Wholesale           Central City  \n",
       "7.0            Central City       Costco Wholesale  \n",
       "8.0                Kum & Go               Kum & Go  \n",
       "9.0                     NaN      Benz Distributing  \n",
       "10.0              Walgreens         Wilkie Liquors  "
      ]
     },
     "execution_count": 28,
     "metadata": {},
     "output_type": "execute_result"
    }
   ],
   "source": [
    "# Rank the retailers based on sales for each year\n",
    "retailer_sales['RANK'] = retailer_sales.groupby('YEAR')['SALE_IN_DOLLARS'].rank(method='first', ascending=False)\n",
    "# Clean up the brand names\n",
    "retailer_sales['STORE_BRAND_NAME'] = retailer_sales['STORE_BRAND_NAME'].map({\n",
    "    'hy':'Hy-Vee',\n",
    "    'fareway stores':'Fareway Stores',\n",
    "    'wal':'Wal-Mart',\n",
    "    'sam\\'s club':'Sam\\'s Club',\n",
    "    'central city':'Central City',\n",
    "    'casey\\'s general store':'Casey\\'s General Store',\n",
    "    'target':'Target',\n",
    "    'walgreens':'Walgreens',\n",
    "    'kum & go':'Kum & Go',\n",
    "    'wilkie liquors':'Wilkie Liquors',\n",
    "    'lot':'Lot-A-Spirits',\n",
    "    'costco wholesale':'Costco Wholesale',\n",
    "    'benz distributing':'Benz Distributing'\n",
    "})\n",
    "\n",
    "# Filter for top 10 retailers for each year\n",
    "top_10_retailers = retailer_sales[retailer_sales['RANK'] <= 10].pivot(index='RANK', columns='YEAR', values='STORE_BRAND_NAME')\n",
    "\n",
    "# top_10_retailers[['YEAR','STORE_BRAND_NAME','RANK']].sort_values(['YEAR','RANK'])\n",
    "top_10_retailers"
   ]
  },
  {
   "cell_type": "markdown",
   "id": "dc8d0938",
   "metadata": {},
   "source": [
    "It's evident that some brands like Hy-VEE, Fareway Stores, and Sam's Club have consistently been among the top retailers across the years. That said, there has movement across the rankings.\n",
    "\n",
    "It is also evident that my store brand code has some room for improvement"
   ]
  },
  {
   "cell_type": "markdown",
   "id": "126d730b",
   "metadata": {},
   "source": [
    "4. In late 2019 Heaven Hill Brands bought a portfolio of liquor brands from Constellation Brands. What percentage of Heaven Hill’s growth in 2020 can be attributed to the acquisition?"
   ]
  },
  {
   "cell_type": "code",
   "execution_count": 30,
   "id": "fe4c4f3b",
   "metadata": {},
   "outputs": [
    {
     "data": {
      "text/plain": [
       "(17291774.49, 106.98385641120585)"
      ]
     },
     "execution_count": 30,
     "metadata": {},
     "output_type": "execute_result"
    }
   ],
   "source": [
    "# List of acquired item_ids\n",
    "## Retrived from Snowflake\n",
    "acquired_items = [\n",
    "    10548, 11588, 13928, 11771, 10550, 11776, 11786, 903141, 911056, \n",
    "    11788, 11777, 11371, 11586, 11774, 11773\n",
    "]\n",
    "\n",
    "# Filter data for Heaven Hill Brands in 2020 for the acquired items\n",
    "heaven_hill_sales_2020_acquired = invoices_df[\n",
    "    (invoices_df['VENDOR_NAME'] == 'heaven hill brands') & \n",
    "    (invoices_df['YEAR'] == 2020) & \n",
    "    (invoices_df['ITEM_ID'].isin(acquired_items))\n",
    "]['SALE_IN_DOLLARS'].sum()\n",
    "\n",
    "# Calculate total sales for Heaven Hill Brands in 2019 and 2020\n",
    "heaven_hill_sales_2019 = invoices_df[(invoices_df['VENDOR_NAME'] == 'heaven hill brands') & (invoices_df['YEAR'] == 2019)]['SALE_IN_DOLLARS'].sum()\n",
    "heaven_hill_sales_2020 = invoices_df[(invoices_df['VENDOR_NAME'] == 'heaven hill brands') & (invoices_df['YEAR'] == 2020)]['SALE_IN_DOLLARS'].sum()\n",
    "\n",
    "# Calculate growth of Heaven Hill Brands from 2019 to 2020\n",
    "heaven_hill_growth = heaven_hill_sales_2020 - heaven_hill_sales_2019\n",
    "\n",
    "# Calculate the growth attributed to the acquired portfolio\n",
    "acquisition_growth = heaven_hill_sales_2020_acquired\n",
    "\n",
    "# Calculate the percentage of Heaven Hill's growth attributed to the acquisition\n",
    "percentage_growth_attributed = (acquisition_growth / heaven_hill_growth) * 100\n",
    "\n",
    "heaven_hill_sales_2020_acquired, percentage_growth_attributed\n"
   ]
  },
  {
   "cell_type": "markdown",
   "id": "1afc3032",
   "metadata": {},
   "source": [
    "Sales of the acquired portfolio under Heaven Hill Brands in 2020: $17,291,774.49\n",
    "Percentage of Heaven Hill Brands' growth in 2020 attributed to the acquisition: Approximately 106.98%\n",
    "\n",
    "It's interesting to note that the growth attributed to the acquired portfolio is greater than 100%. This suggests that while Heaven Hill Brands experienced overall growth due to the acquired items, other parts of their portfolio might have seen a decline in sales.\n",
    "\n"
   ]
  },
  {
   "cell_type": "markdown",
   "id": "35d470c7",
   "metadata": {},
   "source": [
    "## 5. What data integrity issues did you discover? How could you (or how did you) solve/account for these?\n"
   ]
  },
  {
   "cell_type": "markdown",
   "id": "08c122f9",
   "metadata": {},
   "source": [
    "In its raw form, the dataset is a denormalized fact table with information on all entities involved in a transaction such as item, store, and vendor. Each of these entities also has a set of dimensions that would slowly change over time which would make analyses over long periods of time challenging. Additionally, some useful dimensions were not present in the raw dataset such as Store Brand.\n",
    "\n",
    "To solve this, I first ingest the data into Snowflake and used dbt to normalize and clean the data before rejoining for analysis in this notebook."
   ]
  },
  {
   "cell_type": "markdown",
   "id": "dfe82e99",
   "metadata": {},
   "source": [
    "### a. Comment on any data issues you discovered and what assumptions you used to deal with them."
   ]
  },
  {
   "cell_type": "markdown",
   "id": "dc86a18e",
   "metadata": {},
   "source": [
    "As mentioned above, some dimensions in the entities such as which names, ids and associations changed over time in the raw dataset. To deal with these issues, I used a window function to take the latest values for a particular primary key.\n",
    "\n",
    "In a production setting, I would suggest creating an effective from / to field on each primary key to value in each entity and joining to a date spine for quick analysis when needed."
   ]
  },
  {
   "cell_type": "markdown",
   "id": "877ec1b1",
   "metadata": {},
   "source": [
    "### b. What’s a simple solution to solving data quality issues?"
   ]
  },
  {
   "cell_type": "markdown",
   "id": "4b6698c0",
   "metadata": {},
   "source": [
    "A simple solution may have been to load the data into a dataframe in the notebook directly and clean each column separately.\n",
    "\n",
    "For some missing fields and hotfixes (_such as the brand name mappings_), I did so in this notebook."
   ]
  },
  {
   "cell_type": "markdown",
   "id": "af6adcfe",
   "metadata": {},
   "source": [
    "### c. What would be a more scalable solution to deal with quality issues?"
   ]
  },
  {
   "cell_type": "markdown",
   "id": "fe8227e2",
   "metadata": {},
   "source": [
    "I would expand upon the framework I have created, adding more tests on the modeled data and the raw data as it is ingested. I would also suggest looking for better endpoints to ingest the raw data from to avoid having to do the heavy normalization work."
   ]
  }
 ],
 "metadata": {
  "kernelspec": {
   "display_name": "Python 3 (ipykernel)",
   "language": "python",
   "name": "python3"
  },
  "language_info": {
   "codemirror_mode": {
    "name": "ipython",
    "version": 3
   },
   "file_extension": ".py",
   "mimetype": "text/x-python",
   "name": "python",
   "nbconvert_exporter": "python",
   "pygments_lexer": "ipython3",
   "version": "3.9.7"
  }
 },
 "nbformat": 4,
 "nbformat_minor": 5
}
